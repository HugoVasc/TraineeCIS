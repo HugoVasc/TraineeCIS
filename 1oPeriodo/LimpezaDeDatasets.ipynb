{
 "cells": [
  {
   "cell_type": "markdown",
   "metadata": {},
   "source": [
    "# Periodo 1\n",
    "\n",
    "## Limpeza de Datasets\n",
    "\n",
    "A limpeza de Datasets é um passo fundamental para a ciência de dados pois dados faltantes, ou distoantes do formato utilizado por padrão no dataset pode acarretar em mal funcionamento ou até mesmo o não funcionamento de funções chave para o tratemento e entendimento daqueles dados.\n",
    "\n",
    "Essa limpeza pode ser feita de diversas formas e algumas delas serão apresentadas e exemplificadas a seguir utilizando o dataset Video Games List (https://www.kaggle.com/amoghrrao2/video-games-list). Note que para diferente datasets, ou até mesmo diferentes abordagens de um mesmo dataset, algumas formas de lidar com esses valores faltantes ou distoantes podem ser mais ou menos úteis."
   ]
  },
  {
   "cell_type": "code",
   "execution_count": 2,
   "metadata": {},
   "outputs": [
    {
     "name": "stdout",
     "output_type": "stream",
     "text": [
      "<class 'pandas.core.frame.DataFrame'>\n",
      "RangeIndex: 3817 entries, 0 to 3816\n",
      "Data columns (total 5 columns):\n",
      " #   Column      Non-Null Count  Dtype \n",
      "---  ------      --------------  ----- \n",
      " 0   titles      3817 non-null   object\n",
      " 1   released    3817 non-null   object\n",
      " 2   developers  3813 non-null   object\n",
      " 3   publishers  3749 non-null   object\n",
      " 4   genres      3817 non-null   object\n",
      "dtypes: object(5)\n",
      "memory usage: 149.2+ KB\n"
     ]
    },
    {
     "data": {
      "text/html": [
       "<div>\n",
       "<style scoped>\n",
       "    .dataframe tbody tr th:only-of-type {\n",
       "        vertical-align: middle;\n",
       "    }\n",
       "\n",
       "    .dataframe tbody tr th {\n",
       "        vertical-align: top;\n",
       "    }\n",
       "\n",
       "    .dataframe thead th {\n",
       "        text-align: right;\n",
       "    }\n",
       "</style>\n",
       "<table border=\"1\" class=\"dataframe\">\n",
       "  <thead>\n",
       "    <tr style=\"text-align: right;\">\n",
       "      <th></th>\n",
       "      <th>titles</th>\n",
       "      <th>released</th>\n",
       "      <th>developers</th>\n",
       "      <th>publishers</th>\n",
       "      <th>genres</th>\n",
       "    </tr>\n",
       "  </thead>\n",
       "  <tbody>\n",
       "    <tr>\n",
       "      <th>0</th>\n",
       "      <td>101 Dalmatians: Escape from DeVil Manor</td>\n",
       "      <td>1999</td>\n",
       "      <td>DreamForge Intertainment</td>\n",
       "      <td>Disney Interactive</td>\n",
       "      <td>Puzzle, Strategy, Adventure</td>\n",
       "    </tr>\n",
       "    <tr>\n",
       "      <th>1</th>\n",
       "      <td>102 Dalmatians: Puppies to the Rescue</td>\n",
       "      <td>2000</td>\n",
       "      <td>Crystal Dynamics</td>\n",
       "      <td>Eidos Interactive</td>\n",
       "      <td>Platform, Adventure</td>\n",
       "    </tr>\n",
       "    <tr>\n",
       "      <th>2</th>\n",
       "      <td>140</td>\n",
       "      <td>2016</td>\n",
       "      <td>Double Fine Productions</td>\n",
       "      <td>Abstraction Games</td>\n",
       "      <td>Music, Platform, Puzzle, Strategy, Indie</td>\n",
       "    </tr>\n",
       "    <tr>\n",
       "      <th>3</th>\n",
       "      <td>1001 Spikes</td>\n",
       "      <td>2014</td>\n",
       "      <td>8bits Fanatics</td>\n",
       "      <td>Nicalis</td>\n",
       "      <td>Platform, Adventure, Indie</td>\n",
       "    </tr>\n",
       "    <tr>\n",
       "      <th>4</th>\n",
       "      <td>The 11th Hour</td>\n",
       "      <td>1995</td>\n",
       "      <td>Trilobyte</td>\n",
       "      <td>Virgin Interactive</td>\n",
       "      <td>Point-and-click, Puzzle, Adventure</td>\n",
       "    </tr>\n",
       "  </tbody>\n",
       "</table>\n",
       "</div>"
      ],
      "text/plain": [
       "                                    titles released                developers  \\\n",
       "0  101 Dalmatians: Escape from DeVil Manor     1999  DreamForge Intertainment   \n",
       "1    102 Dalmatians: Puppies to the Rescue     2000          Crystal Dynamics   \n",
       "2                                      140     2016   Double Fine Productions   \n",
       "3                              1001 Spikes     2014            8bits Fanatics   \n",
       "4                            The 11th Hour     1995                 Trilobyte   \n",
       "\n",
       "           publishers                                    genres  \n",
       "0  Disney Interactive               Puzzle, Strategy, Adventure  \n",
       "1   Eidos Interactive                       Platform, Adventure  \n",
       "2   Abstraction Games  Music, Platform, Puzzle, Strategy, Indie  \n",
       "3             Nicalis                Platform, Adventure, Indie  \n",
       "4  Virgin Interactive        Point-and-click, Puzzle, Adventure  "
      ]
     },
     "execution_count": 2,
     "metadata": {},
     "output_type": "execute_result"
    }
   ],
   "source": [
    "import pandas as pd\n",
    "import numpy as np\n",
    "\n",
    "df = pd.read_csv('Windows_Games_List.csv')\n",
    "df.info()"
   ]
  },
  {
   "cell_type": "markdown",
   "metadata": {},
   "source": [
    "### Remoção\n",
    "Remove uma linha ou coluna do dataset.\n",
    "\n",
    "<h4 color = \"blue\"> Remoção de linha: </h4>\n",
    "É melhor utilizada quando o dataset possui uma quantidade muito grande de dados, de forma que algumas poucas linhas a menos não interfira no tratamento dos dados.\n",
    "\n",
    "<h4 color = \"blue\"> Remoção de coluna: </h4>\n",
    "Pode ser utilizada quando a coluna em questão não será utilizada no processamento dos dados. Podendo ser removida sem maiores prejuízos."
   ]
  },
  {
   "cell_type": "code",
   "execution_count": 4,
   "metadata": {},
   "outputs": [
    {
     "name": "stdout",
     "output_type": "stream",
     "text": [
      "<class 'pandas.core.frame.DataFrame'>\n",
      "Int64Index: 3748 entries, 0 to 3816\n",
      "Data columns (total 5 columns):\n",
      " #   Column      Non-Null Count  Dtype \n",
      "---  ------      --------------  ----- \n",
      " 0   titles      3748 non-null   object\n",
      " 1   released    3748 non-null   object\n",
      " 2   developers  3748 non-null   object\n",
      " 3   publishers  3748 non-null   object\n",
      " 4   genres      3748 non-null   object\n",
      "dtypes: object(5)\n",
      "memory usage: 175.7+ KB\n"
     ]
    }
   ],
   "source": [
    "# Remocao Linha\n",
    "dftemp = df.dropna()\n",
    "dftemp.info()"
   ]
  },
  {
   "cell_type": "code",
   "execution_count": 9,
   "metadata": {},
   "outputs": [
    {
     "data": {
      "text/plain": [
       "titles        0.000000\n",
       "released      0.000000\n",
       "developers    0.104794\n",
       "publishers    1.781504\n",
       "genres        0.000000\n",
       "dtype: float64"
      ]
     },
     "execution_count": 9,
     "metadata": {},
     "output_type": "execute_result"
    }
   ],
   "source": [
    "#Porcentagem de Perda:\n",
    "df.isnull().sum()/df.shape[0]*100"
   ]
  },
  {
   "cell_type": "markdown",
   "metadata": {},
   "source": [
    "Note que houve uma perda de aproximadamente 1,8% em uma das colunas, oque em determinados casos pode ser considerado um valor elevado.\n",
    "\n",
    "Outra possível abordagem pode ser a retirada das colunas com valores faltantes, para isso bastaria alterar a linha df.dropna() para df.dropna(1), que ao invés de apagar cada linha com um valora faltante, iria apagar a coluna por completo. Mas neste caso a perda de informações seria muito grande, dado o tamanho e a possível importância das colunas."
   ]
  },
  {
   "cell_type": "markdown",
   "metadata": {},
   "source": [
    "### Substituição\n",
    "Existem algumas formas de se substituir um valor faltante para prossegui com o processamento dos dados. As mais simples de se aplicar são as Substituições por média, mediana, moda ou um valor predefinido. Contudo, essa forma de lidar com valores faltantes deve ser aplicada com cuidado pois pode deixar o processamento dos dados tendencioso \n",
    "\n",
    "Neste exemplo podemos observar que existem algumas linhas do dataset com os valores das colunas 'developers' e 'publishers' ausentes. Contudo, analisando o contexto não faria sentido preencher com um valor de moda ou mediana, sendo a opção mais viável a de preencher os campos vazios com \"desconhecido\"."
   ]
  },
  {
   "cell_type": "code",
   "execution_count": 12,
   "metadata": {},
   "outputs": [
    {
     "name": "stdout",
     "output_type": "stream",
     "text": [
      "<class 'pandas.core.frame.DataFrame'>\n",
      "RangeIndex: 3817 entries, 0 to 3816\n",
      "Data columns (total 5 columns):\n",
      " #   Column      Non-Null Count  Dtype \n",
      "---  ------      --------------  ----- \n",
      " 0   titles      3817 non-null   object\n",
      " 1   released    3817 non-null   object\n",
      " 2   developers  3817 non-null   object\n",
      " 3   publishers  3817 non-null   object\n",
      " 4   genres      3817 non-null   object\n",
      "dtypes: object(5)\n",
      "memory usage: 149.2+ KB\n"
     ]
    }
   ],
   "source": [
    "dftemp = df.fillna(\"desconhecido\")\n",
    "dftemp.info()"
   ]
  },
  {
   "cell_type": "markdown",
   "metadata": {},
   "source": [
    "Neste caso mantivemos a quantidade de linhas e os dados não foram alterados drásticamente. Portanto esta seria a melhor abordagem para manter ao máximo a integridade dos dados"
   ]
  }
 ],
 "metadata": {
  "interpreter": {
   "hash": "73e03da126b73bfff3642ec5261d56fa25c444ea595de51041687efaa60dda41"
  },
  "kernelspec": {
   "display_name": "Python 3.9.7 64-bit ('base': conda)",
   "language": "python",
   "name": "python3"
  },
  "language_info": {
   "codemirror_mode": {
    "name": "ipython",
    "version": 3
   },
   "file_extension": ".py",
   "mimetype": "text/x-python",
   "name": "python",
   "nbconvert_exporter": "python",
   "pygments_lexer": "ipython3",
   "version": "3.9.7"
  },
  "orig_nbformat": 4
 },
 "nbformat": 4,
 "nbformat_minor": 2
}
