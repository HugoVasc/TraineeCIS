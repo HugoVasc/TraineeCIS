{
 "cells": [
  {
   "cell_type": "markdown",
   "metadata": {},
   "source": [
    "# Estudos 2º Periodo:\n",
    "\n",
    "## Tipos de Dados\n",
    "\n",
    "### Numéricos / Ordinal\n",
    "\n",
    "Dados expressos por números. Um dado numérico pode ser continuo ou discreto.\n",
    "\n",
    "#### Continuos\n",
    "\n",
    "Represnetados na vida real por números reais, onde existem infintos números possíveis entre quaisquer dois números escolhidos. Ná prática em datasets esses números são representados por variáveis do tipo float onde há a presença da casa decimal. Um bom exemplo de dado numérico continuo é a medição de temperatura que podem medir valores como 25º C, 25,1º C, 25,37º C.\n",
    "\n",
    "#### Discretos\n",
    "\n",
    "São representados por números na tanto na vida real quanto nos datasets e ao contrário dos dados continuos, não existem números possíveis entre um número escolhido e seu sucessor ou antecessor. Um exemplo para esse tipo de dados é a quantidade de filiais que uma empresa tem, pois a resposta pode ser 1, 2, 3... mas nunca 1,5 ou 1,33 pois não existe meia filial ou 1/3 de filial.\n",
    "\n",
    "### Categóricos\n",
    "\n",
    "São dados que, assim como o nome indica, representam categorias, que podem ser representados por strings ou também por números, porém sem qualquer significado matemático.\n",
    "\n",
    "#### Nominais\n",
    "\n",
    "Representam categorias, onde não há hierarquia ou superioridade pré estabelecida entre as mesmas. Alguns exemplos de dados nominais são, gênero, \n",
    "\n",
    "#### Ordinais\n",
    "\n",
    "São categorias em que o conhecimento da ordem é importante, um exemplo é a classificação de atletas em uma competição.\n"
   ]
  }
 ],
 "metadata": {
  "language_info": {
   "name": "python"
  },
  "orig_nbformat": 4
 },
 "nbformat": 4,
 "nbformat_minor": 2
}
